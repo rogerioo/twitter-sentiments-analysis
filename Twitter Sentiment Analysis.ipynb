{
 "cells": [
  {
   "cell_type": "markdown",
   "metadata": {},
   "source": [
    "# Twitter Sentiment Analysis"
   ]
  },
  {
   "cell_type": "code",
   "execution_count": 29,
   "metadata": {},
   "outputs": [],
   "source": [
    "import pandas as pd\n",
    "import numpy as np\n",
    "import seaborn as sns\n",
    "import regex as re\n",
    "\n",
    "import warnings\n",
    "warnings.filterwarnings('ignore')"
   ]
  },
  {
   "cell_type": "code",
   "execution_count": 30,
   "metadata": {},
   "outputs": [],
   "source": [
    "data = pd.read_csv('data/train.csv')"
   ]
  },
  {
   "cell_type": "code",
   "execution_count": 31,
   "metadata": {},
   "outputs": [
    {
     "data": {
      "text/html": [
       "<div>\n",
       "<style scoped>\n",
       "    .dataframe tbody tr th:only-of-type {\n",
       "        vertical-align: middle;\n",
       "    }\n",
       "\n",
       "    .dataframe tbody tr th {\n",
       "        vertical-align: top;\n",
       "    }\n",
       "\n",
       "    .dataframe thead th {\n",
       "        text-align: right;\n",
       "    }\n",
       "</style>\n",
       "<table border=\"1\" class=\"dataframe\">\n",
       "  <thead>\n",
       "    <tr style=\"text-align: right;\">\n",
       "      <th></th>\n",
       "      <th>id</th>\n",
       "      <th>label</th>\n",
       "      <th>tweet</th>\n",
       "    </tr>\n",
       "  </thead>\n",
       "  <tbody>\n",
       "    <tr>\n",
       "      <td>0</td>\n",
       "      <td>1</td>\n",
       "      <td>0</td>\n",
       "      <td>@user when a father is dysfunctional and is s...</td>\n",
       "    </tr>\n",
       "    <tr>\n",
       "      <td>1</td>\n",
       "      <td>2</td>\n",
       "      <td>0</td>\n",
       "      <td>@user @user thanks for #lyft credit i can't us...</td>\n",
       "    </tr>\n",
       "    <tr>\n",
       "      <td>2</td>\n",
       "      <td>3</td>\n",
       "      <td>0</td>\n",
       "      <td>bihday your majesty</td>\n",
       "    </tr>\n",
       "    <tr>\n",
       "      <td>3</td>\n",
       "      <td>4</td>\n",
       "      <td>0</td>\n",
       "      <td>#model   i love u take with u all the time in ...</td>\n",
       "    </tr>\n",
       "    <tr>\n",
       "      <td>4</td>\n",
       "      <td>5</td>\n",
       "      <td>0</td>\n",
       "      <td>factsguide: society now    #motivation</td>\n",
       "    </tr>\n",
       "    <tr>\n",
       "      <td>...</td>\n",
       "      <td>...</td>\n",
       "      <td>...</td>\n",
       "      <td>...</td>\n",
       "    </tr>\n",
       "    <tr>\n",
       "      <td>31957</td>\n",
       "      <td>31958</td>\n",
       "      <td>0</td>\n",
       "      <td>ate @user isz that youuu?ðððððð...</td>\n",
       "    </tr>\n",
       "    <tr>\n",
       "      <td>31958</td>\n",
       "      <td>31959</td>\n",
       "      <td>0</td>\n",
       "      <td>to see nina turner on the airwaves trying to...</td>\n",
       "    </tr>\n",
       "    <tr>\n",
       "      <td>31959</td>\n",
       "      <td>31960</td>\n",
       "      <td>0</td>\n",
       "      <td>listening to sad songs on a monday morning otw...</td>\n",
       "    </tr>\n",
       "    <tr>\n",
       "      <td>31960</td>\n",
       "      <td>31961</td>\n",
       "      <td>1</td>\n",
       "      <td>@user #sikh #temple vandalised in in #calgary,...</td>\n",
       "    </tr>\n",
       "    <tr>\n",
       "      <td>31961</td>\n",
       "      <td>31962</td>\n",
       "      <td>0</td>\n",
       "      <td>thank you @user for you follow</td>\n",
       "    </tr>\n",
       "  </tbody>\n",
       "</table>\n",
       "<p>31962 rows × 3 columns</p>\n",
       "</div>"
      ],
      "text/plain": [
       "          id  label                                              tweet\n",
       "0          1      0   @user when a father is dysfunctional and is s...\n",
       "1          2      0  @user @user thanks for #lyft credit i can't us...\n",
       "2          3      0                                bihday your majesty\n",
       "3          4      0  #model   i love u take with u all the time in ...\n",
       "4          5      0             factsguide: society now    #motivation\n",
       "...      ...    ...                                                ...\n",
       "31957  31958      0  ate @user isz that youuu?ðððððð...\n",
       "31958  31959      0    to see nina turner on the airwaves trying to...\n",
       "31959  31960      0  listening to sad songs on a monday morning otw...\n",
       "31960  31961      1  @user #sikh #temple vandalised in in #calgary,...\n",
       "31961  31962      0                   thank you @user for you follow  \n",
       "\n",
       "[31962 rows x 3 columns]"
      ]
     },
     "execution_count": 31,
     "metadata": {},
     "output_type": "execute_result"
    }
   ],
   "source": [
    "data"
   ]
  },
  {
   "cell_type": "code",
   "execution_count": 32,
   "metadata": {},
   "outputs": [
    {
     "data": {
      "text/plain": [
       "<matplotlib.axes._subplots.AxesSubplot at 0x7f483ea61780>"
      ]
     },
     "execution_count": 32,
     "metadata": {},
     "output_type": "execute_result"
    },
    {
     "data": {
      "image/png": "[encoded data removed]",
      "text/plain": [
       "<Figure size 432x288 with 1 Axes>"
      ]
     },
     "metadata": {
      "needs_background": "light"
     },
     "output_type": "display_data"
    }
   ],
   "source": [
    "class_dict = {\n",
    "    0: (data.label == 0).sum(),\n",
    "    1: (data.label == 1).sum(),\n",
    "}\n",
    "\n",
    "sns.barplot(list(class_dict.keys()), list(class_dict.values()))"
   ]
  },
  {
   "cell_type": "code",
   "execution_count": 33,
   "metadata": {},
   "outputs": [
    {
     "name": "stdout",
     "output_type": "stream",
     "text": [
      " @user offline now after a very nice and long night.. ð #snapchat @user   #redhead #vermillionred \n"
     ]
    }
   ],
   "source": [
    "print(data.tweet.loc[90])"
   ]
  },
  {
   "cell_type": "markdown",
   "metadata": {},
   "source": [
    "## Pre-processamento"
   ]
  },
  {
   "cell_type": "markdown",
   "metadata": {},
   "source": [
    "Ao analisar algumas frases, notei que existem caracteres especiais e emojis que precisam ser removidos para a classificação e as hashtags podem ser deixadas a parte para um ver se tem alguma relação o comentário com ser ou não preconceituoso"
   ]
  },
  {
   "cell_type": "code",
   "execution_count": 34,
   "metadata": {},
   "outputs": [
    {
     "name": "stderr",
     "output_type": "stream",
     "text": [
      "[nltk_data] Downloading package stopwords to /root/nltk_data...\n",
      "[nltk_data]   Package stopwords is already up-to-date!\n",
      "[nltk_data] Downloading package wordnet to /root/nltk_data...\n",
      "[nltk_data]   Package wordnet is already up-to-date!\n"
     ]
    },
    {
     "data": {
      "text/plain": [
       "True"
      ]
     },
     "execution_count": 34,
     "metadata": {},
     "output_type": "execute_result"
    }
   ],
   "source": [
    "import nltk\n",
    "import regex as re\n",
    "\n",
    "lemma = nltk.WordNetLemmatizer()\n",
    "stopwords = nltk.corpus.stopwords\n",
    "\n",
    "nltk.download('stopwords') #to use stopwords func\n",
    "nltk.download('wordnet') #to use lemma func"
   ]
  },
  {
   "cell_type": "code",
   "execution_count": 35,
   "metadata": {},
   "outputs": [],
   "source": [
    "def normalize_text(input):\n",
    "    text = \" \".join(filter(lambda x: x[0]!= '@' , input.split()))\n",
    "    text = re.sub('[^a-zA-Z]', ' ', text) #use regex to match anything that's not a word\n",
    "    text = text.lower()\n",
    "    text = text.split()\n",
    "    text = [word for word in text if not word in set(stopwords.words('english'))] #remove connections words\n",
    "    text = [lemma.lemmatize(word) for word in text] #return the word to it's base form | Caring -> Care\n",
    "    text = \" \".join(text)\n",
    "    return text\n",
    "\n",
    "def normalize_hashtag(input):\n",
    "    hashtags = \" \".join(filter(lambda x: x[0]== '#', input.split()))\n",
    "    hashtags = re.sub('[^a-zA-Z]', ' ', hashtags) #use regex to match anything that's not a word\n",
    "    hashtags = hashtags.lower()\n",
    "    hashtags = hashtags.split()\n",
    "    hashtags = [lemma.lemmatize(word) for word in hashtags] #return the word to it's base form | Caring -> Care\n",
    "    hashtags = \" \".join(hashtags)\n",
    "    return hashtags"
   ]
  },
  {
   "cell_type": "code",
   "execution_count": 36,
   "metadata": {},
   "outputs": [],
   "source": [
    "data['text'] = data.tweet.apply(normalize_text)\n",
    "data['hashtag'] = data.tweet.apply(normalize_hashtag)"
   ]
  },
  {
   "cell_type": "code",
   "execution_count": 37,
   "metadata": {},
   "outputs": [
    {
     "data": {
      "text/html": [
       "<div>\n",
       "<style scoped>\n",
       "    .dataframe tbody tr th:only-of-type {\n",
       "        vertical-align: middle;\n",
       "    }\n",
       "\n",
       "    .dataframe tbody tr th {\n",
       "        vertical-align: top;\n",
       "    }\n",
       "\n",
       "    .dataframe thead th {\n",
       "        text-align: right;\n",
       "    }\n",
       "</style>\n",
       "<table border=\"1\" class=\"dataframe\">\n",
       "  <thead>\n",
       "    <tr style=\"text-align: right;\">\n",
       "      <th></th>\n",
       "      <th>id</th>\n",
       "      <th>label</th>\n",
       "      <th>tweet</th>\n",
       "      <th>text</th>\n",
       "      <th>hashtag</th>\n",
       "    </tr>\n",
       "  </thead>\n",
       "  <tbody>\n",
       "    <tr>\n",
       "      <td>0</td>\n",
       "      <td>1</td>\n",
       "      <td>0</td>\n",
       "      <td>@user when a father is dysfunctional and is s...</td>\n",
       "      <td>father dysfunctional selfish drag kid dysfunct...</td>\n",
       "      <td>run</td>\n",
       "    </tr>\n",
       "    <tr>\n",
       "      <td>1</td>\n",
       "      <td>2</td>\n",
       "      <td>0</td>\n",
       "      <td>@user @user thanks for #lyft credit i can't us...</td>\n",
       "      <td>thanks lyft credit use cause offer wheelchair ...</td>\n",
       "      <td>lyft disapointed getthanked</td>\n",
       "    </tr>\n",
       "    <tr>\n",
       "      <td>2</td>\n",
       "      <td>3</td>\n",
       "      <td>0</td>\n",
       "      <td>bihday your majesty</td>\n",
       "      <td>bihday majesty</td>\n",
       "      <td></td>\n",
       "    </tr>\n",
       "    <tr>\n",
       "      <td>3</td>\n",
       "      <td>4</td>\n",
       "      <td>0</td>\n",
       "      <td>#model   i love u take with u all the time in ...</td>\n",
       "      <td>model love u take u time ur</td>\n",
       "      <td>model</td>\n",
       "    </tr>\n",
       "    <tr>\n",
       "      <td>4</td>\n",
       "      <td>5</td>\n",
       "      <td>0</td>\n",
       "      <td>factsguide: society now    #motivation</td>\n",
       "      <td>factsguide society motivation</td>\n",
       "      <td>motivation</td>\n",
       "    </tr>\n",
       "    <tr>\n",
       "      <td>...</td>\n",
       "      <td>...</td>\n",
       "      <td>...</td>\n",
       "      <td>...</td>\n",
       "      <td>...</td>\n",
       "      <td>...</td>\n",
       "    </tr>\n",
       "    <tr>\n",
       "      <td>31957</td>\n",
       "      <td>31958</td>\n",
       "      <td>0</td>\n",
       "      <td>ate @user isz that youuu?ðððððð...</td>\n",
       "      <td>ate isz youuu</td>\n",
       "      <td></td>\n",
       "    </tr>\n",
       "    <tr>\n",
       "      <td>31958</td>\n",
       "      <td>31959</td>\n",
       "      <td>0</td>\n",
       "      <td>to see nina turner on the airwaves trying to...</td>\n",
       "      <td>see nina turner airwave trying wrap mantle gen...</td>\n",
       "      <td>shame imwithher</td>\n",
       "    </tr>\n",
       "    <tr>\n",
       "      <td>31959</td>\n",
       "      <td>31960</td>\n",
       "      <td>0</td>\n",
       "      <td>listening to sad songs on a monday morning otw...</td>\n",
       "      <td>listening sad song monday morning otw work sad</td>\n",
       "      <td></td>\n",
       "    </tr>\n",
       "    <tr>\n",
       "      <td>31960</td>\n",
       "      <td>31961</td>\n",
       "      <td>1</td>\n",
       "      <td>@user #sikh #temple vandalised in in #calgary,...</td>\n",
       "      <td>sikh temple vandalised calgary wso condemns act</td>\n",
       "      <td>sikh temple calgary wso</td>\n",
       "    </tr>\n",
       "    <tr>\n",
       "      <td>31961</td>\n",
       "      <td>31962</td>\n",
       "      <td>0</td>\n",
       "      <td>thank you @user for you follow</td>\n",
       "      <td>thank follow</td>\n",
       "      <td></td>\n",
       "    </tr>\n",
       "  </tbody>\n",
       "</table>\n",
       "<p>31962 rows × 5 columns</p>\n",
       "</div>"
      ],
      "text/plain": [
       "          id  label                                              tweet  \\\n",
       "0          1      0   @user when a father is dysfunctional and is s...   \n",
       "1          2      0  @user @user thanks for #lyft credit i can't us...   \n",
       "2          3      0                                bihday your majesty   \n",
       "3          4      0  #model   i love u take with u all the time in ...   \n",
       "4          5      0             factsguide: society now    #motivation   \n",
       "...      ...    ...                                                ...   \n",
       "31957  31958      0  ate @user isz that youuu?ðððððð...   \n",
       "31958  31959      0    to see nina turner on the airwaves trying to...   \n",
       "31959  31960      0  listening to sad songs on a monday morning otw...   \n",
       "31960  31961      1  @user #sikh #temple vandalised in in #calgary,...   \n",
       "31961  31962      0                   thank you @user for you follow     \n",
       "\n",
       "                                                    text  \\\n",
       "0      father dysfunctional selfish drag kid dysfunct...   \n",
       "1      thanks lyft credit use cause offer wheelchair ...   \n",
       "2                                         bihday majesty   \n",
       "3                            model love u take u time ur   \n",
       "4                          factsguide society motivation   \n",
       "...                                                  ...   \n",
       "31957                                      ate isz youuu   \n",
       "31958  see nina turner airwave trying wrap mantle gen...   \n",
       "31959     listening sad song monday morning otw work sad   \n",
       "31960    sikh temple vandalised calgary wso condemns act   \n",
       "31961                                       thank follow   \n",
       "\n",
       "                           hashtag  \n",
       "0                              run  \n",
       "1      lyft disapointed getthanked  \n",
       "2                                   \n",
       "3                            model  \n",
       "4                       motivation  \n",
       "...                            ...  \n",
       "31957                               \n",
       "31958              shame imwithher  \n",
       "31959                               \n",
       "31960      sikh temple calgary wso  \n",
       "31961                               \n",
       "\n",
       "[31962 rows x 5 columns]"
      ]
     },
     "execution_count": 37,
     "metadata": {},
     "output_type": "execute_result"
    }
   ],
   "source": [
    "data"
   ]
  },
  {
   "cell_type": "markdown",
   "metadata": {},
   "source": [
    "## EDA"
   ]
  },
  {
   "cell_type": "markdown",
   "metadata": {},
   "source": [
    "Esta seção é para entender melhor o dado e ver qual das duas features: *text* ou *hashtag* poderão ser usadas para a classificação"
   ]
  },
  {
   "cell_type": "code",
   "execution_count": 38,
   "metadata": {},
   "outputs": [],
   "source": [
    "from wordcloud import WordCloud, STOPWORDS\n",
    "import matplotlib.pyplot as plt"
   ]
  },
  {
   "cell_type": "code",
   "execution_count": 39,
   "metadata": {},
   "outputs": [],
   "source": [
    "neutral_words = \" \".join(data.text)\n",
    "hated_word = \" \".join(data.text[data.label == 1])"
   ]
  },
  {
   "cell_type": "code",
   "execution_count": 40,
   "metadata": {},
   "outputs": [
    {
     "data": {
      "image/png": "[encoded data removed]",
      "text/plain": [
       "<Figure size 432x288 with 1 Axes>"
      ]
     },
     "metadata": {
      "needs_background": "light"
     },
     "output_type": "display_data"
    }
   ],
   "source": [
    "wordcloud = WordCloud(height=2000, width=2000, stopwords=STOPWORDS, background_color='white')\n",
    "wordcloud = wordcloud.generate(neutral_words)\n",
    "plt.imshow(wordcloud)\n",
    "plt.axis('off')\n",
    "plt.show()"
   ]
  },
  {
   "cell_type": "code",
   "execution_count": 41,
   "metadata": {},
   "outputs": [
    {
     "data": {
      "image/png": "[encoded data removed]",
      "text/plain": [
       "<Figure size 432x288 with 1 Axes>"
      ]
     },
     "metadata": {
      "needs_background": "light"
     },
     "output_type": "display_data"
    }
   ],
   "source": [
    "wordcloud = WordCloud(height=2000, width=2000, stopwords=STOPWORDS, background_color='white')\n",
    "wordcloud = wordcloud.generate(hated_word)\n",
    "plt.imshow(wordcloud)\n",
    "plt.axis('off')\n",
    "plt.show()"
   ]
  },
  {
   "cell_type": "code",
   "execution_count": 42,
   "metadata": {},
   "outputs": [
    {
     "data": {
      "text/plain": [
       "8693"
      ]
     },
     "execution_count": 42,
     "metadata": {},
     "output_type": "execute_result"
    }
   ],
   "source": [
    "data.hashtag[data.hashtag == ''].count()"
   ]
  },
  {
   "cell_type": "markdown",
   "metadata": {},
   "source": [
    "## Escolha das Features"
   ]
  },
  {
   "cell_type": "markdown",
   "metadata": {},
   "source": [
    "Como visto anteriormente, usar a feature *text* é a melhor opção quando comparado as *hashtags* (pois existem *tweets* que não tem nenhuma), contudo, um classificador só consegue trabalhar com números. Para atingir tal objetivo, escolhi usar uma técnica chamada *bag of words*, que dá uma chave a cada termo presente na string. \n",
    "\n",
    "Para normalizar a ocorrencia de cada palavra, existe o *TFIDF*, que aplica uma normalização que equilibra o peso dos termos para cada corpo textual."
   ]
  },
  {
   "cell_type": "code",
   "execution_count": 43,
   "metadata": {},
   "outputs": [],
   "source": [
    "from sklearn.model_selection import train_test_split\n",
    "\n",
    "from sklearn.feature_extraction.text import CountVectorizer\n",
    "from sklearn.feature_extraction.text import TfidfTransformer"
   ]
  },
  {
   "cell_type": "code",
   "execution_count": 44,
   "metadata": {},
   "outputs": [],
   "source": [
    "vectorizer = CountVectorizer()\n",
    "transformer = TfidfTransformer(smooth_idf=False)\n",
    "\n",
    "X = vectorizer.fit_transform(data['text'])\n",
    "X = vectorizer.transform(data.text)\n",
    "tfidf = transformer.fit_transform(X)"
   ]
  },
  {
   "cell_type": "code",
   "execution_count": 45,
   "metadata": {},
   "outputs": [],
   "source": [
    "X_train, X_test, y_train, y_test = train_test_split(tfidf, data.label, test_size=0.33, random_state=42)"
   ]
  },
  {
   "cell_type": "markdown",
   "metadata": {},
   "source": [
    "## Criação do Modelo"
   ]
  },
  {
   "cell_type": "markdown",
   "metadata": {},
   "source": [
    "Esta seção é dedicada a encontrar o classificador que tenha os melhores resultados baseados nas *classification_report* do *sklearn* que mostra a **precisão**, **revocação** e o **f1_score** (média harmônica entre seus anteriores).\n",
    "\n",
    "Nos classificadores *Logistic Regression* busquei alterar a variável C, para ver se havia algum caso que melhoraria os resultados. Por fim, por conta do desbalanceamento das classes, uso o parâmetro *class_weight='balanced'*, que busca atribuir pesos que melhorem os resultados baseados na quantidaded de amostrar de cada uma."
   ]
  },
  {
   "cell_type": "code",
   "execution_count": 46,
   "metadata": {},
   "outputs": [],
   "source": [
    "from sklearn.metrics import confusion_matrix, classification_report, f1_score\n",
    "\n",
    "from sklearn.linear_model import LogisticRegression\n",
    "from sklearn.svm import LinearSVC"
   ]
  },
  {
   "cell_type": "code",
   "execution_count": 47,
   "metadata": {},
   "outputs": [],
   "source": [
    "model_lsvc = LinearSVC()\n",
    "_ = model_lsvc.fit(X_train, y_train)\n",
    "\n",
    "model_lr1 = LogisticRegression(C=10)\n",
    "_ = model_lr1.fit(X_train, y_train)\n",
    "\n",
    "model_lr2 = LogisticRegression(C=100)\n",
    "_ = model_lr2.fit(X_train, y_train)\n",
    "\n",
    "model_lr3 = LogisticRegression(C=100, class_weight='balanced')\n",
    "_ = model_lr3.fit(X_train, y_train)"
   ]
  },
  {
   "cell_type": "code",
   "execution_count": 48,
   "metadata": {},
   "outputs": [],
   "source": [
    "models = {\n",
    "    0: model_lsvc,\n",
    "    1: model_lr1,\n",
    "    2: model_lr2,\n",
    "    3: model_lr3,\n",
    "}\n",
    "\n",
    "title = {\n",
    "    0: \"Linear SVC\",\n",
    "    1: \"Logistic Regression with C = 10\",\n",
    "    2: \"Logistic Regression with C = 100\",\n",
    "    3: \"Logistic Regression with C = 100 and balanced class weights\",\n",
    "}"
   ]
  },
  {
   "cell_type": "code",
   "execution_count": 49,
   "metadata": {},
   "outputs": [
    {
     "name": "stdout",
     "output_type": "stream",
     "text": [
      "---------------------------Linear SVC---------------------------\n",
      "\n",
      "\n",
      "              precision    recall  f1-score   support\n",
      "\n",
      "           0       0.97      0.99      0.98      9806\n",
      "           1       0.88      0.54      0.67       742\n",
      "\n",
      "    accuracy                           0.96     10548\n",
      "   macro avg       0.93      0.77      0.82     10548\n",
      "weighted avg       0.96      0.96      0.96     10548\n",
      "\n",
      "\n",
      "\n",
      "---------------------------Logistic Regression with C = 10---------------------------\n",
      "\n",
      "\n",
      "              precision    recall  f1-score   support\n",
      "\n",
      "           0       0.96      0.99      0.98      9806\n",
      "           1       0.88      0.49      0.63       742\n",
      "\n",
      "    accuracy                           0.96     10548\n",
      "   macro avg       0.92      0.74      0.80     10548\n",
      "weighted avg       0.96      0.96      0.95     10548\n",
      "\n",
      "\n",
      "\n",
      "---------------------------Logistic Regression with C = 100---------------------------\n",
      "\n",
      "\n",
      "              precision    recall  f1-score   support\n",
      "\n",
      "           0       0.97      0.99      0.98      9806\n",
      "           1       0.84      0.55      0.67       742\n",
      "\n",
      "    accuracy                           0.96     10548\n",
      "   macro avg       0.90      0.77      0.82     10548\n",
      "weighted avg       0.96      0.96      0.96     10548\n",
      "\n",
      "\n",
      "\n",
      "---------------------------Logistic Regression with C = 100 and balanced class weights---------------------------\n",
      "\n",
      "\n",
      "              precision    recall  f1-score   support\n",
      "\n",
      "           0       0.97      0.98      0.98      9806\n",
      "           1       0.71      0.67      0.69       742\n",
      "\n",
      "    accuracy                           0.96     10548\n",
      "   macro avg       0.84      0.82      0.83     10548\n",
      "weighted avg       0.96      0.96      0.96     10548\n",
      "\n",
      "\n",
      "\n"
     ]
    }
   ],
   "source": [
    "bigger = 0\n",
    "model = 0\n",
    "chosed = 0\n",
    "\n",
    "for key in models:\n",
    "    pred = models[key].predict(X_test)\n",
    "    \n",
    "    print('---------------------------{}---------------------------'.format(title[key]))\n",
    "    print('\\n')\n",
    "    print(classification_report(y_test, pred))\n",
    "    print('\\n')\n",
    "    \n",
    "    if (bigger < f1_score(y_test, pred)):\n",
    "        model = models[key]\n",
    "        bigger = f1_score(y_test, pred)\n",
    "        chosed = key"
   ]
  },
  {
   "cell_type": "code",
   "execution_count": 50,
   "metadata": {},
   "outputs": [
    {
     "name": "stdout",
     "output_type": "stream",
     "text": [
      "Best option is Logistic Regression with C = 100 and balanced class weights\n"
     ]
    }
   ],
   "source": [
    "print(\"Best option is {}\".format(title[chosed]))"
   ]
  },
  {
   "cell_type": "markdown",
   "metadata": {},
   "source": [
    "## Treinamento"
   ]
  },
  {
   "cell_type": "markdown",
   "metadata": {},
   "source": [
    "Esta seção usa o modelo escolhido e treinado anteriormente com o dataset de teste para aferir a precisão. Para tentar mensurar a precisão da predição é usado o *predict_proba* "
   ]
  },
  {
   "cell_type": "code",
   "execution_count": 51,
   "metadata": {},
   "outputs": [],
   "source": [
    "test = pd.read_csv('data/test.csv')"
   ]
  },
  {
   "cell_type": "code",
   "execution_count": 52,
   "metadata": {},
   "outputs": [
    {
     "data": {
      "text/html": [
       "<div>\n",
       "<style scoped>\n",
       "    .dataframe tbody tr th:only-of-type {\n",
       "        vertical-align: middle;\n",
       "    }\n",
       "\n",
       "    .dataframe tbody tr th {\n",
       "        vertical-align: top;\n",
       "    }\n",
       "\n",
       "    .dataframe thead th {\n",
       "        text-align: right;\n",
       "    }\n",
       "</style>\n",
       "<table border=\"1\" class=\"dataframe\">\n",
       "  <thead>\n",
       "    <tr style=\"text-align: right;\">\n",
       "      <th></th>\n",
       "      <th>id</th>\n",
       "      <th>tweet</th>\n",
       "      <th>text</th>\n",
       "    </tr>\n",
       "  </thead>\n",
       "  <tbody>\n",
       "    <tr>\n",
       "      <td>0</td>\n",
       "      <td>31963</td>\n",
       "      <td>#studiolife #aislife #requires #passion #dedic...</td>\n",
       "      <td>studiolife aislife requires passion dedication...</td>\n",
       "    </tr>\n",
       "    <tr>\n",
       "      <td>1</td>\n",
       "      <td>31964</td>\n",
       "      <td>@user #white #supremacists want everyone to s...</td>\n",
       "      <td>white supremacist want everyone see new bird m...</td>\n",
       "    </tr>\n",
       "    <tr>\n",
       "      <td>2</td>\n",
       "      <td>31965</td>\n",
       "      <td>safe ways to heal your #acne!!    #altwaystohe...</td>\n",
       "      <td>safe way heal acne altwaystoheal healthy healing</td>\n",
       "    </tr>\n",
       "    <tr>\n",
       "      <td>3</td>\n",
       "      <td>31966</td>\n",
       "      <td>is the hp and the cursed child book up for res...</td>\n",
       "      <td>hp cursed child book reservation already yes h...</td>\n",
       "    </tr>\n",
       "    <tr>\n",
       "      <td>4</td>\n",
       "      <td>31967</td>\n",
       "      <td>3rd #bihday to my amazing, hilarious #nephew...</td>\n",
       "      <td>rd bihday amazing hilarious nephew eli ahmir u...</td>\n",
       "    </tr>\n",
       "    <tr>\n",
       "      <td>...</td>\n",
       "      <td>...</td>\n",
       "      <td>...</td>\n",
       "      <td>...</td>\n",
       "    </tr>\n",
       "    <tr>\n",
       "      <td>17192</td>\n",
       "      <td>49155</td>\n",
       "      <td>thought factory: left-right polarisation! #tru...</td>\n",
       "      <td>thought factory left right polarisation trump ...</td>\n",
       "    </tr>\n",
       "    <tr>\n",
       "      <td>17193</td>\n",
       "      <td>49156</td>\n",
       "      <td>feeling like a mermaid ð #hairflip #neverre...</td>\n",
       "      <td>feeling like mermaid hairflip neverready forma...</td>\n",
       "    </tr>\n",
       "    <tr>\n",
       "      <td>17194</td>\n",
       "      <td>49157</td>\n",
       "      <td>#hillary #campaigned today in #ohio((omg)) &amp;am...</td>\n",
       "      <td>hillary campaigned today ohio omg amp used wor...</td>\n",
       "    </tr>\n",
       "    <tr>\n",
       "      <td>17195</td>\n",
       "      <td>49158</td>\n",
       "      <td>happy, at work conference: right mindset leads...</td>\n",
       "      <td>happy work conference right mindset lead cultu...</td>\n",
       "    </tr>\n",
       "    <tr>\n",
       "      <td>17196</td>\n",
       "      <td>49159</td>\n",
       "      <td>my   song \"so glad\" free download!  #shoegaze ...</td>\n",
       "      <td>song glad free download shoegaze newmusic newsong</td>\n",
       "    </tr>\n",
       "  </tbody>\n",
       "</table>\n",
       "<p>17197 rows × 3 columns</p>\n",
       "</div>"
      ],
      "text/plain": [
       "          id                                              tweet  \\\n",
       "0      31963  #studiolife #aislife #requires #passion #dedic...   \n",
       "1      31964   @user #white #supremacists want everyone to s...   \n",
       "2      31965  safe ways to heal your #acne!!    #altwaystohe...   \n",
       "3      31966  is the hp and the cursed child book up for res...   \n",
       "4      31967    3rd #bihday to my amazing, hilarious #nephew...   \n",
       "...      ...                                                ...   \n",
       "17192  49155  thought factory: left-right polarisation! #tru...   \n",
       "17193  49156  feeling like a mermaid ð #hairflip #neverre...   \n",
       "17194  49157  #hillary #campaigned today in #ohio((omg)) &am...   \n",
       "17195  49158  happy, at work conference: right mindset leads...   \n",
       "17196  49159  my   song \"so glad\" free download!  #shoegaze ...   \n",
       "\n",
       "                                                    text  \n",
       "0      studiolife aislife requires passion dedication...  \n",
       "1      white supremacist want everyone see new bird m...  \n",
       "2       safe way heal acne altwaystoheal healthy healing  \n",
       "3      hp cursed child book reservation already yes h...  \n",
       "4      rd bihday amazing hilarious nephew eli ahmir u...  \n",
       "...                                                  ...  \n",
       "17192  thought factory left right polarisation trump ...  \n",
       "17193  feeling like mermaid hairflip neverready forma...  \n",
       "17194  hillary campaigned today ohio omg amp used wor...  \n",
       "17195  happy work conference right mindset lead cultu...  \n",
       "17196  song glad free download shoegaze newmusic newsong  \n",
       "\n",
       "[17197 rows x 3 columns]"
      ]
     },
     "execution_count": 52,
     "metadata": {},
     "output_type": "execute_result"
    }
   ],
   "source": [
    "test['text'] = test.tweet.apply(normalize_text)\n",
    "test"
   ]
  },
  {
   "cell_type": "code",
   "execution_count": 53,
   "metadata": {},
   "outputs": [],
   "source": [
    "test_tokenize = vectorizer.fit_transform(data.text) #use the same word set of training\n",
    "test_tokenize = vectorizer.transform(test.text) \n",
    "test_tfidf = transformer.fit_transform(test_tokenize)"
   ]
  },
  {
   "cell_type": "code",
   "execution_count": 54,
   "metadata": {},
   "outputs": [],
   "source": [
    "pred = model.predict(test_tfidf)\n",
    "prob = model.predict_proba(test_tfidf)"
   ]
  },
  {
   "cell_type": "code",
   "execution_count": 55,
   "metadata": {},
   "outputs": [],
   "source": [
    "test['label'] = pred\n",
    "\n",
    "scores = (prob[:,1] >= 0.5).astype(int) #Probility that represents it belonging to a class \n",
    "test['score'] = scores"
   ]
  },
  {
   "cell_type": "code",
   "execution_count": 56,
   "metadata": {},
   "outputs": [
    {
     "data": {
      "text/html": [
       "<div>\n",
       "<style scoped>\n",
       "    .dataframe tbody tr th:only-of-type {\n",
       "        vertical-align: middle;\n",
       "    }\n",
       "\n",
       "    .dataframe tbody tr th {\n",
       "        vertical-align: top;\n",
       "    }\n",
       "\n",
       "    .dataframe thead th {\n",
       "        text-align: right;\n",
       "    }\n",
       "</style>\n",
       "<table border=\"1\" class=\"dataframe\">\n",
       "  <thead>\n",
       "    <tr style=\"text-align: right;\">\n",
       "      <th></th>\n",
       "      <th>id</th>\n",
       "      <th>tweet</th>\n",
       "      <th>text</th>\n",
       "      <th>label</th>\n",
       "      <th>score</th>\n",
       "    </tr>\n",
       "  </thead>\n",
       "  <tbody>\n",
       "    <tr>\n",
       "      <td>19</td>\n",
       "      <td>31982</td>\n",
       "      <td>thought factory: bbc neutrality on right wing ...</td>\n",
       "      <td>thought factory bbc neutrality right wing fasc...</td>\n",
       "      <td>1</td>\n",
       "      <td>1</td>\n",
       "    </tr>\n",
       "    <tr>\n",
       "      <td>26</td>\n",
       "      <td>31989</td>\n",
       "      <td>chick gets fucked hottest naked lady</td>\n",
       "      <td>chick get fucked hottest naked lady</td>\n",
       "      <td>1</td>\n",
       "      <td>1</td>\n",
       "    </tr>\n",
       "    <tr>\n",
       "      <td>33</td>\n",
       "      <td>31996</td>\n",
       "      <td>suppo the #taiji fisherman! no bullying! no ra...</td>\n",
       "      <td>suppo taiji fisherman bullying racism tweet ta...</td>\n",
       "      <td>1</td>\n",
       "      <td>1</td>\n",
       "    </tr>\n",
       "    <tr>\n",
       "      <td>110</td>\n",
       "      <td>32073</td>\n",
       "      <td>hey @user - a $14000 ivanka bracelet? do you f...</td>\n",
       "      <td>hey ivanka bracelet feel good profiting xenoph...</td>\n",
       "      <td>1</td>\n",
       "      <td>1</td>\n",
       "    </tr>\n",
       "    <tr>\n",
       "      <td>140</td>\n",
       "      <td>32103</td>\n",
       "      <td>@user all together this christmas: pls  &amp;amp; ...</td>\n",
       "      <td>together christmas pls amp follow national day...</td>\n",
       "      <td>1</td>\n",
       "      <td>1</td>\n",
       "    </tr>\n",
       "    <tr>\n",
       "      <td>...</td>\n",
       "      <td>...</td>\n",
       "      <td>...</td>\n",
       "      <td>...</td>\n",
       "      <td>...</td>\n",
       "      <td>...</td>\n",
       "    </tr>\n",
       "    <tr>\n",
       "      <td>17128</td>\n",
       "      <td>49091</td>\n",
       "      <td>@user the uk governmentâs new #anti-semitism...</td>\n",
       "      <td>uk government new anti semitism definition con...</td>\n",
       "      <td>1</td>\n",
       "      <td>1</td>\n",
       "    </tr>\n",
       "    <tr>\n",
       "      <td>17148</td>\n",
       "      <td>49111</td>\n",
       "      <td>we grew up fucked upð¤ its fucked upð¥ i'm...</td>\n",
       "      <td>grew fucked fucked believing better place fucking</td>\n",
       "      <td>1</td>\n",
       "      <td>1</td>\n",
       "    </tr>\n",
       "    <tr>\n",
       "      <td>17176</td>\n",
       "      <td>49139</td>\n",
       "      <td>@user @user are the most racist pay ever!!!!!</td>\n",
       "      <td>racist pay ever</td>\n",
       "      <td>1</td>\n",
       "      <td>1</td>\n",
       "    </tr>\n",
       "    <tr>\n",
       "      <td>17188</td>\n",
       "      <td>49151</td>\n",
       "      <td>black professor demonizes, proposes nazi style...</td>\n",
       "      <td>black professor demonizes proposes nazi style ...</td>\n",
       "      <td>1</td>\n",
       "      <td>1</td>\n",
       "    </tr>\n",
       "    <tr>\n",
       "      <td>17192</td>\n",
       "      <td>49155</td>\n",
       "      <td>thought factory: left-right polarisation! #tru...</td>\n",
       "      <td>thought factory left right polarisation trump ...</td>\n",
       "      <td>1</td>\n",
       "      <td>1</td>\n",
       "    </tr>\n",
       "  </tbody>\n",
       "</table>\n",
       "<p>1265 rows × 5 columns</p>\n",
       "</div>"
      ],
      "text/plain": [
       "          id                                              tweet  \\\n",
       "19     31982  thought factory: bbc neutrality on right wing ...   \n",
       "26     31989              chick gets fucked hottest naked lady    \n",
       "33     31996  suppo the #taiji fisherman! no bullying! no ra...   \n",
       "110    32073  hey @user - a $14000 ivanka bracelet? do you f...   \n",
       "140    32103  @user all together this christmas: pls  &amp; ...   \n",
       "...      ...                                                ...   \n",
       "17128  49091  @user the uk governmentâs new #anti-semitism...   \n",
       "17148  49111  we grew up fucked upð¤ its fucked upð¥ i'm...   \n",
       "17176  49139     @user @user are the most racist pay ever!!!!!    \n",
       "17188  49151  black professor demonizes, proposes nazi style...   \n",
       "17192  49155  thought factory: left-right polarisation! #tru...   \n",
       "\n",
       "                                                    text  label  score  \n",
       "19     thought factory bbc neutrality right wing fasc...      1      1  \n",
       "26                   chick get fucked hottest naked lady      1      1  \n",
       "33     suppo taiji fisherman bullying racism tweet ta...      1      1  \n",
       "110    hey ivanka bracelet feel good profiting xenoph...      1      1  \n",
       "140    together christmas pls amp follow national day...      1      1  \n",
       "...                                                  ...    ...    ...  \n",
       "17128  uk government new anti semitism definition con...      1      1  \n",
       "17148  grew fucked fucked believing better place fucking      1      1  \n",
       "17176                                    racist pay ever      1      1  \n",
       "17188  black professor demonizes proposes nazi style ...      1      1  \n",
       "17192  thought factory left right polarisation trump ...      1      1  \n",
       "\n",
       "[1265 rows x 5 columns]"
      ]
     },
     "execution_count": 56,
     "metadata": {},
     "output_type": "execute_result"
    }
   ],
   "source": [
    "test[test['label'] == 1 ]"
   ]
  }
 ],
 "metadata": {
  "kernelspec": {
   "display_name": "Python 3",
   "language": "python",
   "name": "python3"
  },
  "language_info": {
   "codemirror_mode": {
    "name": "ipython",
    "version": 3
   },
   "file_extension": ".py",
   "mimetype": "text/x-python",
   "name": "python",
   "nbconvert_exporter": "python",
   "pygments_lexer": "ipython3",
   "version": "3.6.8"
  }
 },
 "nbformat": 4,
 "nbformat_minor": 2
}
